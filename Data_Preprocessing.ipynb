{
 "cells": [
  {
   "cell_type": "code",
   "execution_count": 10,
   "id": "39027694",
   "metadata": {},
   "outputs": [
    {
     "name": "stdout",
     "output_type": "stream",
     "text": [
      "['andr_C36276925', 'andr_CHEMBL519112', 'egfr_C04955856', 'egfr_CHEMBL144760']\n"
     ]
    }
   ],
   "source": [
    "# Create sample train and test keys\n",
    "data_name = \"dude\"\n",
    "data_dir = \"./dude\"\n",
    "\n",
    "import os\n",
    "list_receptors = os.listdir(data_dir)\n",
    "list_receptors = list(filter(lambda x: os.path.isdir(os.path.join(data_dir, x)), list_receptors))\n",
    "\n",
    "valid_keys = []\n",
    "for receptor in list_receptors:\n",
    "    list_ligands = os.listdir(os.path.join(data_dir, receptor))[:-1]\n",
    "    for ligand in list_ligands:\n",
    "        valid_keys.append(receptor+\"_\"+ligand[:-4])\n",
    "        \n",
    "print(valid_keys[:5])"
   ]
  },
  {
   "cell_type": "code",
   "execution_count": 11,
   "id": "566d054b",
   "metadata": {},
   "outputs": [
    {
     "name": "stdout",
     "output_type": "stream",
     "text": [
      "['andr_C36276925', 'andr_CHEMBL519112']\n",
      "['egfr_C04955856', 'egfr_CHEMBL144760']\n"
     ]
    }
   ],
   "source": [
    "# Split train test\n",
    "test_gene = ['egfr', 'parp1', 'fnta', 'aa2ar', 'pygm', 'kith', 'met', 'abl1', 'ptn1', 'casp3', 'hdac8', 'grik1', 'kpcb', 'ada', 'pyrd', 'ace', 'aces', 'pgh1', 'aldr', 'kit', 'fa10', 'pa2ga', 'fgfr1', 'cp3a4', 'wee1', 'tgfr1']\n",
    "train_gene = [p for p in list_receptors if p not in test_gene]\n",
    "\n",
    "train_keys = [k for k in valid_keys if k.split('_')[0] in train_gene]    \n",
    "test_keys = [k for k in valid_keys if k.split('_')[0] in test_gene]  \n",
    "\n",
    "print(train_keys[:5])\n",
    "print(test_keys[:5])\n",
    "\n",
    "# Notice that key which has \"CHEMBL\" is active, otherwise inactive"
   ]
  },
  {
   "cell_type": "code",
   "execution_count": 16,
   "id": "93be3ea9",
   "metadata": {},
   "outputs": [],
   "source": [
    "# Save train and test keys\n",
    "import pickle\n",
    "\n",
    "with open(\"keys/train_%s.pkl\"%data_name, 'wb') as f:\n",
    "    pickle.dump(train_keys, f)\n",
    "    \n",
    "with open(\"keys/test_%s.pkl\"%data_name, 'wb') as f:\n",
    "    pickle.dump(test_keys, f)"
   ]
  },
  {
   "cell_type": "code",
   "execution_count": 17,
   "id": "e53443f2",
   "metadata": {},
   "outputs": [],
   "source": [
    "from rdkit.Chem.rdmolfiles import *\n",
    "from rdkit.Chem.rdchem import *\n",
    "from rdkit.Chem.rdmolops import *\n",
    "from rdkit.Chem.Draw import *\n",
    "from rdkit.Chem.Lipinski import *\n",
    "\n",
    "# Setting for auto draw\n",
    "from rdkit.Chem.Draw import IPythonConsole\n",
    "from rdkit.Chem import Draw\n",
    "IPythonConsole.drawOptions.addAtomIndices = True\n",
    "IPythonConsole.molSize = 1000,1000"
   ]
  },
  {
   "cell_type": "code",
   "execution_count": 18,
   "id": "40571e8e",
   "metadata": {},
   "outputs": [],
   "source": [
    "def load_receptor_ligand_data(keys):\n",
    "    result_list = {}\n",
    "    \n",
    "    for key in keys:\n",
    "        receptor_name, ligand_name = key.split(\"_\")\n",
    "        \n",
    "        # Load ligand\n",
    "        ligands_sdf = SDMolSupplier(\"%s/%s/%s.sdf\" % (data_dir, receptor_name, ligand_name))\n",
    "        ligand = ligands_sdf[0]\n",
    "        print(\"ligand %s\" % ligand_name, ligand != None)\n",
    "        \n",
    "        # Load receptor\n",
    "        receptor = MolFromPDBFile(\"%s/%s/receptor.pdb\" % (data_dir, receptor_name))\n",
    "        print(\"receptor %s\" % receptor_name, receptor != None)\n",
    "        \n",
    "        result_list[key] = (ligand, receptor)\n",
    "        \n",
    "    return result_list"
   ]
  },
  {
   "cell_type": "code",
   "execution_count": 19,
   "id": "b2967a32",
   "metadata": {},
   "outputs": [
    {
     "name": "stdout",
     "output_type": "stream",
     "text": [
      "ligand C36276925 True\n",
      "receptor andr True\n",
      "ligand CHEMBL519112 True\n",
      "receptor andr True\n",
      "ligand C04955856 True\n",
      "receptor egfr True\n",
      "ligand CHEMBL144760 True\n",
      "receptor egfr True\n"
     ]
    }
   ],
   "source": [
    "# Load and save\n",
    "def load_and_save_data_by_keys(keys):\n",
    "    train_dict = load_receptor_ligand_data(keys)\n",
    "    for key, data in train_dict.items():\n",
    "        with open('data/'+key, 'wb') as f:\n",
    "            pickle.dump(data, f)\n",
    "\n",
    "# Train data\n",
    "load_and_save_data_by_keys(train_keys)\n",
    "\n",
    "# Test data\n",
    "load_and_save_data_by_keys(test_keys)"
   ]
  },
  {
   "cell_type": "code",
   "execution_count": null,
   "id": "bdf78dfe",
   "metadata": {},
   "outputs": [],
   "source": []
  }
 ],
 "metadata": {
  "kernelspec": {
   "display_name": "Python 3 (ipykernel)",
   "language": "python",
   "name": "python3"
  },
  "language_info": {
   "codemirror_mode": {
    "name": "ipython",
    "version": 3
   },
   "file_extension": ".py",
   "mimetype": "text/x-python",
   "name": "python",
   "nbconvert_exporter": "python",
   "pygments_lexer": "ipython3",
   "version": "3.7.12"
  }
 },
 "nbformat": 4,
 "nbformat_minor": 5
}
